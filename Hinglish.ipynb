{
  "nbformat": 4,
  "nbformat_minor": 0,
  "metadata": {
    "colab": {
      "provenance": []
    },
    "kernelspec": {
      "name": "python3",
      "display_name": "Python 3"
    },
    "language_info": {
      "name": "python"
    }
  },
  "cells": [
    {
      "cell_type": "code",
      "execution_count": 5,
      "metadata": {
        "colab": {
          "base_uri": "https://localhost:8080/"
        },
        "id": "e8jPmzJWRGZH",
        "outputId": "ed12905f-6531-49f0-d5f4-8e08d55ab4c7"
      },
      "outputs": [
        {
          "output_type": "stream",
          "name": "stdout",
          "text": [
            "Requirement already satisfied: googletrans in /usr/local/lib/python3.10/dist-packages (4.0.0rc1)\n",
            "Requirement already satisfied: httpx==0.13.3 in /usr/local/lib/python3.10/dist-packages (from googletrans) (0.13.3)\n",
            "Requirement already satisfied: certifi in /usr/local/lib/python3.10/dist-packages (from httpx==0.13.3->googletrans) (2023.7.22)\n",
            "Requirement already satisfied: hstspreload in /usr/local/lib/python3.10/dist-packages (from httpx==0.13.3->googletrans) (2023.1.1)\n",
            "Requirement already satisfied: sniffio in /usr/local/lib/python3.10/dist-packages (from httpx==0.13.3->googletrans) (1.3.0)\n",
            "Requirement already satisfied: chardet==3.* in /usr/local/lib/python3.10/dist-packages (from httpx==0.13.3->googletrans) (3.0.4)\n",
            "Requirement already satisfied: idna==2.* in /usr/local/lib/python3.10/dist-packages (from httpx==0.13.3->googletrans) (2.10)\n",
            "Requirement already satisfied: rfc3986<2,>=1.3 in /usr/local/lib/python3.10/dist-packages (from httpx==0.13.3->googletrans) (1.5.0)\n",
            "Requirement already satisfied: httpcore==0.9.* in /usr/local/lib/python3.10/dist-packages (from httpx==0.13.3->googletrans) (0.9.1)\n",
            "Requirement already satisfied: h11<0.10,>=0.8 in /usr/local/lib/python3.10/dist-packages (from httpcore==0.9.*->httpx==0.13.3->googletrans) (0.9.0)\n",
            "Requirement already satisfied: h2==3.* in /usr/local/lib/python3.10/dist-packages (from httpcore==0.9.*->httpx==0.13.3->googletrans) (3.2.0)\n",
            "Requirement already satisfied: hyperframe<6,>=5.2.0 in /usr/local/lib/python3.10/dist-packages (from h2==3.*->httpcore==0.9.*->httpx==0.13.3->googletrans) (5.2.0)\n",
            "Requirement already satisfied: hpack<4,>=3.0 in /usr/local/lib/python3.10/dist-packages (from h2==3.*->httpcore==0.9.*->httpx==0.13.3->googletrans) (3.0.0)\n"
          ]
        }
      ],
      "source": [
        "pip install googletrans"
      ]
    },
    {
      "cell_type": "code",
      "source": [
        "from googletrans import Translator\n",
        "# Define a mapping for transliteration from Hindi to Hinglish\n",
        "# This is just a small data used here but for real time examples we should take the large data\n",
        "transliteration_map = {\n",
        "    '३०': '30',\n",
        "    'डेमो': 'demo',\n",
        "    'हेडसेट': 'headset',\n",
        "    'मिनट':'minute',\n",
        "    'प्रतिक्रिया':'feedback',\n",
        "    'टिप्पणी':'comment',\n",
        "    'साझा':'share',\n",
        "    'वीडियो':'vedio',\n",
        "    'उत्पादों':'product',\n",
        "    'बैग':'bag'\n",
        "}\n",
        "\n",
        "def hinglish_trans(text):\n",
        "    translator = Translator()\n",
        "    translation = translator.translate(text, src='en', dest='hi')\n",
        "    translated_text = translation.text\n",
        "\n",
        "    # Tokenize the translated text and replace Hindi words with Hinglish\n",
        "    tokens = translated_text.split()\n",
        "    hinglish_tokens = [transliteration_map.get(token, token) for token in tokens]\n",
        "\n",
        "    # Reconstruct the Hinglish sentence\n",
        "    translated_text = ' '.join(hinglish_tokens)\n",
        "\n",
        "    return translated_text\n",
        "\n",
        "# English text to be translated\n",
        "english_text = input()\n",
        "\n",
        "# Translate to Hinglish\n",
        "translated_text = hinglish_trans(english_text)\n",
        "\n",
        "print(\"Result:\", translated_text)"
      ],
      "metadata": {
        "colab": {
          "base_uri": "https://localhost:8080/"
        },
        "id": "jRh6NWAgSQpY",
        "outputId": "ff7a26f1-e7f9-4827-bf33-16b611408c86"
      },
      "execution_count": 6,
      "outputs": [
        {
          "output_type": "stream",
          "name": "stdout",
          "text": [
            ": I had about a 30 minute demo just using this new headset\n",
            "Result: : मेरे पास इस नए headset का उपयोग करके लगभग 30 minute का demo था\n"
          ]
        }
      ]
    },
    {
      "cell_type": "code",
      "source": [
        "from googletrans import Translator\n",
        "# Define a mapping for transliteration from Hindi to Hinglish\n",
        "# This is just a small data used here but for real time examples we should take the large data\n",
        "transliteration_map = {\n",
        "    '३०': '30',\n",
        "    'डेमो': 'demo',\n",
        "    'हेडसेट': 'headset',\n",
        "    'मिनट':'minute',\n",
        "    'प्रतिक्रिया':'feedback',\n",
        "    'टिप्पणी':'comment',\n",
        "    'साझा':'share',\n",
        "    'वीडियो':'vedio',\n",
        "    'उत्पादों':'product',\n",
        "    'बैग':'bag'\n",
        "}\n",
        "\n",
        "def hinglish_trans(text):\n",
        "    translator = Translator()\n",
        "    translation = translator.translate(text, src='en', dest='hi')\n",
        "    translated_text = translation.text\n",
        "\n",
        "    # Tokenize the translated text and replace Hindi words with Hinglish\n",
        "    tokens = translated_text.split()\n",
        "    hinglish_tokens = [transliteration_map.get(token, token) for token in tokens]\n",
        "\n",
        "    # Reconstruct the Hinglish sentence\n",
        "    translated_text = ' '.join(hinglish_tokens)\n",
        "\n",
        "    return translated_text\n",
        "\n",
        "# English text to be translated\n",
        "english_text = input()\n",
        "\n",
        "# Translate to Hinglish\n",
        "translated_text = hinglish_trans(english_text)\n",
        "\n",
        "print(\"Result:\", translated_text)"
      ],
      "metadata": {
        "colab": {
          "base_uri": "https://localhost:8080/"
        },
        "id": "imDR702iSm0L",
        "outputId": "55550b9d-38b4-449f-caf3-4f9207c65e57"
      },
      "execution_count": 7,
      "outputs": [
        {
          "output_type": "stream",
          "name": "stdout",
          "text": [
            "Definitely share your feedback in the comment section.\n",
            "Result: निश्चित रूप से comment अनुभाग में अपनी feedback share करें।\n"
          ]
        }
      ]
    },
    {
      "cell_type": "code",
      "source": [
        "from googletrans import Translator\n",
        "# Define a mapping for transliteration from Hindi to Hinglish\n",
        "# This is just a small data used here but for real time examples we should take the large data\n",
        "transliteration_map = {\n",
        "    '३०': '30',\n",
        "    'डेमो': 'demo',\n",
        "    'हेडसेट': 'headset',\n",
        "    'मिनट':'minute',\n",
        "    'प्रतिक्रिया':'feedback',\n",
        "    'टिप्पणी':'comment',\n",
        "    'साझा':'share',\n",
        "    'वीडियो':'vedio',\n",
        "    'उत्पादों':'product',\n",
        "    'बैग':'bag'\n",
        "}\n",
        "\n",
        "def hinglish_trans(text):\n",
        "    translator = Translator()\n",
        "    translation = translator.translate(text, src='en', dest='hi')\n",
        "    translated_text = translation.text\n",
        "\n",
        "    # Tokenize the translated text and replace Hindi words with Hinglish\n",
        "    tokens = translated_text.split()\n",
        "    hinglish_tokens = [transliteration_map.get(token, token) for token in tokens]\n",
        "\n",
        "    # Reconstruct the Hinglish sentence\n",
        "    translated_text = ' '.join(hinglish_tokens)\n",
        "\n",
        "    return translated_text\n",
        "\n",
        "# English text to be translated\n",
        "english_text = input()\n",
        "\n",
        "# Translate to Hinglish\n",
        "translated_text = hinglish_trans(english_text)\n",
        "\n",
        "print(\"Result:\", translated_text)"
      ],
      "metadata": {
        "colab": {
          "base_uri": "https://localhost:8080/"
        },
        "id": "4EUbKgQZSx88",
        "outputId": "c92861dc-a9d3-4d9e-d251-24e104bb6de1"
      },
      "execution_count": 8,
      "outputs": [
        {
          "output_type": "stream",
          "name": "stdout",
          "text": [
            "So even if it's a big video, I will clearly mention all the products.\n",
            "Result: तो भले ही यह एक बड़ा vedio है, मैं स्पष्ट रूप से सभी product का उल्लेख करूंगा।\n"
          ]
        }
      ]
    },
    {
      "cell_type": "code",
      "source": [
        "from googletrans import Translator\n",
        "# Define a mapping for transliteration from Hindi to Hinglish\n",
        "# This is just a sample data used here but for real time examples we should take more data or else we can also import the dataset and use it.\n",
        "transliteration_map = {\n",
        "    '३०': '30',\n",
        "    'डेमो': 'demo',\n",
        "    'हेडसेट': 'headset',\n",
        "    'मिनट':'minute',\n",
        "    'प्रतिक्रिया':'feedback',\n",
        "    'टिप्पणी':'comment',\n",
        "    'साझा':'share',\n",
        "    'वीडियो':'vedio',\n",
        "    'उत्पादों':'product',\n",
        "    'बैग':'bag'\n",
        "}\n",
        "\n",
        "def hinglish_trans(text):\n",
        "    translator = Translator()\n",
        "    translation = translator.translate(text, src='en', dest='hi')\n",
        "    translated_text = translation.text\n",
        "\n",
        "    # Tokenize the translated text and replace Hindi words with Hinglish\n",
        "    tokens = translated_text.split()\n",
        "    hinglish_tokens = [transliteration_map.get(token, token) for token in tokens]\n",
        "\n",
        "    # Reconstruct the Hinglish sentence\n",
        "    translated_text = ' '.join(hinglish_tokens)\n",
        "\n",
        "    return translated_text\n",
        "\n",
        "# English text to be translated\n",
        "english_text = input()\n",
        "\n",
        "# Translate to Hinglish\n",
        "translated_text = hinglish_trans(english_text)\n",
        "\n",
        "print(\"Result:\", translated_text)"
      ],
      "metadata": {
        "colab": {
          "base_uri": "https://localhost:8080/"
        },
        "id": "WK1N7swaS2ii",
        "outputId": "9ca737ea-f34a-480d-b9d4-eb4ed02b8031"
      },
      "execution_count": 9,
      "outputs": [
        {
          "output_type": "stream",
          "name": "stdout",
          "text": [
            "I was waiting for my bag.\n",
            "Result: मैं अपने bag का इंतजार कर रहा था।\n"
          ]
        }
      ]
    }
  ]
}